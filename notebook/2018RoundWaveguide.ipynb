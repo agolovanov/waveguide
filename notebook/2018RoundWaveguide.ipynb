{
 "cells": [
  {
   "cell_type": "code",
   "execution_count": null,
   "metadata": {},
   "outputs": [],
   "source": [
    "%matplotlib inline"
   ]
  },
  {
   "cell_type": "code",
   "execution_count": null,
   "metadata": {},
   "outputs": [],
   "source": [
    "import sys\n",
    "sys.path.append('..')\n",
    "import mode\n",
    "import waveguide\n",
    "import numpy as np\n",
    "import matplotlib.pyplot as plt"
   ]
  },
  {
   "cell_type": "code",
   "execution_count": null,
   "metadata": {},
   "outputs": [],
   "source": [
    "w = waveguide.RoundWaveguide(radius=4 * np.pi)"
   ]
  },
  {
   "cell_type": "code",
   "execution_count": null,
   "metadata": {},
   "outputs": [],
   "source": [
    "m = w.get_TM_mode(1, 1)\n",
    "m2 = w.get_TE_mode(1, 2, phi0=0.5 * np.pi)\n",
    "m3 = w.get_TE_mode(1, 1, phi0=0.5 * np.pi)\n",
    "\n",
    "modes = [m, m2, m3]\n",
    "\n",
    "a1 = 5.0 * np.exp(1j * 0.3)\n",
    "a2 = 0# 1.6 * np.exp(1j * 1.2)\n",
    "a3 = 0 #8.0 * np.exp(1j * 1.2)\n",
    "\n",
    "coeffs = [a1, a2, a3]"
   ]
  },
  {
   "cell_type": "code",
   "execution_count": null,
   "metadata": {},
   "outputs": [],
   "source": [
    "print(m.h)\n",
    "print(m2.h)"
   ]
  },
  {
   "cell_type": "code",
   "execution_count": null,
   "metadata": {},
   "outputs": [],
   "source": [
    "x = np.linspace(-4 * np.pi, 4 * np.pi, 100)\n",
    "xx, yy = np.meshgrid(x, x)\n",
    "\n",
    "xx1, yy1 = xx/2/np.pi, yy/2/np.pi"
   ]
  },
  {
   "cell_type": "code",
   "execution_count": null,
   "metadata": {},
   "outputs": [],
   "source": [
    "def plot(f, ax=None, positive=False, vmin=None, vmax=None):\n",
    "    if ax is None:\n",
    "        _, ax = plt.subplots()\n",
    "    lim_max = np.max(np.abs(f))\n",
    "    if lim_max == 0.0:\n",
    "        lim_max = 1\n",
    "    lim_min = 0.0 if positive else -lim_max\n",
    "    if vmin is None:\n",
    "        vmin = lim_min\n",
    "    if vmax is None:\n",
    "        vmax = lim_max\n",
    "    return ax.pcolormesh(xx/2/np.pi, yy/2/np.pi, f, cmap='jet', vmin=vmin, vmax=vmax)"
   ]
  },
  {
   "cell_type": "code",
   "execution_count": null,
   "metadata": {},
   "outputs": [],
   "source": [
    "def ex(x, y, z):\n",
    "    ans = 0\n",
    "    for a, m in zip(coeffs, modes):\n",
    "        ans += a * m.ex(x, y, z)\n",
    "    return np.real(ans)\n",
    "\n",
    "\n",
    "def ey(x, y, z):\n",
    "    ans = 0\n",
    "    for a, m in zip(coeffs, modes):\n",
    "        ans += a * m.ey(x, y, z)\n",
    "    return np.real(ans)\n",
    "\n",
    "def ez(x, y, z):\n",
    "    ans = 0\n",
    "    for a, m in zip(coeffs, modes):\n",
    "        ans += a * m.ez(x, y, z)\n",
    "    return np.real(ans)\n",
    "\n",
    "def hx(x, y, z):\n",
    "    ans = 0\n",
    "    for a, m in zip(coeffs, modes):\n",
    "        ans += a * m.hx(x, y, z)\n",
    "    return np.real(ans)\n",
    "\n",
    "def hy(x, y, z):\n",
    "    ans = 0\n",
    "    for a, m in zip(coeffs, modes):\n",
    "        ans += a * m.hy(x, y, z)\n",
    "    return np.real(ans)\n",
    "\n",
    "def hz(x, y, z):\n",
    "    ans = 0\n",
    "    for a, m in zip(coeffs, modes):\n",
    "        ans += a * m.hz(x, y, z)\n",
    "    return np.real(ans)"
   ]
  },
  {
   "cell_type": "code",
   "execution_count": null,
   "metadata": {},
   "outputs": [],
   "source": [
    "from mpl_toolkits.axes_grid1 import AxesGrid\n",
    "\n",
    "fig = plt.figure(figsize=(10, 7))\n",
    "\n",
    "grid = AxesGrid(fig, 111,\n",
    "                nrows_ncols=(2, 3),\n",
    "                axes_pad=0.8,\n",
    "                aspect=True,\n",
    "                label_mode=\"L\",\n",
    "                cbar_location=\"right\",\n",
    "                cbar_mode=\"each\",\n",
    "                cbar_size='2.5%',\n",
    "                cbar_pad=0.1)\n",
    "\n",
    "lims = {'vmin': -0.05, 'vmax': 0.05}\n",
    "z = 0.0\n",
    "\n",
    "im1 = plot(ez(xx, yy, z), grid[0], vmin=-0.2, vmax=0.2)\n",
    "im2 = plot(ex(xx, yy, z), grid[1], vmin=-0.5, vmax=1.3)\n",
    "im3 = plot(ey(xx, yy, z), grid[2], vmin=-0.4, vmax=0.4)\n",
    "im4 = plot(hz(xx, yy, z), grid[3], vmin=-0.3, vmax=0.3)\n",
    "im5 = plot(hx(xx, yy, z), grid[4], vmin=-0.32, vmax=0.32)\n",
    "im6 = plot(hy(xx, yy, z), grid[5], vmin=-0.5, vmax=1.1)\n",
    "\n",
    "grid[0].set_title('Ex')\n",
    "grid[1].set_title('Ey')\n",
    "grid[2].set_title('Ez')\n",
    "grid[3].set_title('Bx')\n",
    "grid[4].set_title('By')\n",
    "grid[5].set_title('Bz')\n",
    "\n",
    "grid.cbar_axes[0].colorbar(im1)\n",
    "grid.cbar_axes[1].colorbar(im2)\n",
    "grid.cbar_axes[2].colorbar(im3)\n",
    "grid.cbar_axes[3].colorbar(im4)\n",
    "grid.cbar_axes[4].colorbar(im5)\n",
    "grid.cbar_axes[5].colorbar(im6)"
   ]
  },
  {
   "cell_type": "code",
   "execution_count": null,
   "metadata": {},
   "outputs": [],
   "source": [
    "def flux(x, y, z):\n",
    "    return ex(x, y, z) * hy(x, y, z) - hx(x, y, z) * ey(x, y, z)\n",
    "\n",
    "modes = [w.get_TM_mode(1,1)]\n",
    "coeffs = [1.0, 1.0]\n",
    "\n",
    "fig, ax = plt.subplots()\n",
    "plot(flux(xx, yy, 0.0), ax=ax, positive=True)\n",
    "ax.set_aspect('equal')"
   ]
  },
  {
   "cell_type": "code",
   "execution_count": null,
   "metadata": {},
   "outputs": [],
   "source": [
    "%%capture\n",
    "\n",
    "from matplotlib import animation\n",
    "\n",
    "zmax = 2 * np.pi\n",
    "iters = 40\n",
    "dz = zmax / iters\n",
    "\n",
    "fig = plt.figure(figsize=(8, 5))\n",
    "\n",
    "grid = AxesGrid(fig, 111,\n",
    "                nrows_ncols=(2, 3),\n",
    "                axes_pad=0.3,\n",
    "                aspect=True,\n",
    "                label_mode=\"L\",\n",
    "                cbar_location=\"right\",\n",
    "                cbar_mode=\"single\",\n",
    "                cbar_size='2.5%',\n",
    "                cbar_pad=0.5)\n",
    "\n",
    "def frame(i):\n",
    "    z = i * dz\n",
    "    im = plot(ez(xx, yy, z), grid[0], **lims)\n",
    "    plot(ex(xx, yy, z), grid[1], **lims)\n",
    "    plot(ey(xx, yy, z), grid[2], **lims)\n",
    "    plot(hz(xx, yy, z), grid[3], **lims)\n",
    "    plot(hx(xx, yy, z), grid[4], **lims)\n",
    "    plot(hy(xx, yy, z), grid[5], **lims)\n",
    "\n",
    "    grid.cbar_axes[0].colorbar(im)\n",
    "    \n",
    "    \n",
    "anim = animation.FuncAnimation(fig, frame, frames=iters, interval=100).to_html5_video()"
   ]
  },
  {
   "cell_type": "code",
   "execution_count": null,
   "metadata": {},
   "outputs": [],
   "source": [
    "from IPython.display import HTML\n",
    "HTML(anim)"
   ]
  },
  {
   "cell_type": "code",
   "execution_count": null,
   "metadata": {},
   "outputs": [],
   "source": [
    "m = w.get_TE_mode(1, 1, phi0=np.pi)\n",
    "plt.streamplot(xx, yy, np.real(m.ex(xx, yy, 0)), np.real(m.ey(xx, yy, 0)))"
   ]
  },
  {
   "cell_type": "code",
   "execution_count": null,
   "metadata": {},
   "outputs": [],
   "source": [
    "m = w.get_TM_mode(1, 1, phi0=0.5 * np.pi)\n",
    "plt.streamplot(xx, yy, np.real(m.ex(xx, yy, 0)), np.real(m.ey(xx, yy, 0)))"
   ]
  },
  {
   "cell_type": "code",
   "execution_count": null,
   "metadata": {},
   "outputs": [],
   "source": []
  }
 ],
 "metadata": {
  "kernelspec": {
   "display_name": "Python 3",
   "language": "python",
   "name": "python3"
  },
  "language_info": {
   "codemirror_mode": {
    "name": "ipython",
    "version": 3
   },
   "file_extension": ".py",
   "mimetype": "text/x-python",
   "name": "python",
   "nbconvert_exporter": "python",
   "pygments_lexer": "ipython3",
   "version": "3.6.5"
  }
 },
 "nbformat": 4,
 "nbformat_minor": 2
}
